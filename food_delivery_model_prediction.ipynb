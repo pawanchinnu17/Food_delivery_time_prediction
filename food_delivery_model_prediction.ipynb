{
 "cells": [
  {
   "cell_type": "markdown",
   "id": "53acb454",
   "metadata": {},
   "source": [
    "# 🛵 Food Delivery Time Prediction with LSTM\n",
    "This notebook builds an LSTM model to predict delivery time based on delivery partner features and distance. It also includes visualizations to analyze feature relationships."
   ]
  },
  {
   "cell_type": "code",
   "execution_count": null,
   "id": "ac601a69",
   "metadata": {},
   "outputs": [],
   "source": [
    "import pandas as pd\n",
    "import numpy as np\n",
    "import matplotlib.pyplot as plt\n",
    "import seaborn as sns\n",
    "from sklearn.preprocessing import MinMaxScaler\n",
    "from sklearn.model_selection import train_test_split\n",
    "from tensorflow.keras.models import Sequential\n",
    "from tensorflow.keras.layers import LSTM, Dense\n",
    "from tensorflow.keras.callbacks import EarlyStopping\n",
    "\n",
    "# Load dataset\n",
    "df = pd.read_csv('food_delivery_data.csv')\n",
    "df.head()\n"
   ]
  },
  {
   "cell_type": "code",
   "execution_count": null,
   "id": "eaf4dc3b",
   "metadata": {},
   "outputs": [],
   "source": [
    "# Drop unnecessary columns\n",
    "df.drop(columns=['ID', 'Delivery_person_ID', 'Type_of_order', 'Type_of_vehicle'], inplace=True)\n"
   ]
  },
  {
   "cell_type": "code",
   "execution_count": null,
   "id": "461e9e3d",
   "metadata": {},
   "outputs": [],
   "source": [
    "# Calculate distance using Haversine formula\n",
    "def haversine(lat1, lon1, lat2, lon2):\n",
    "    R = 6371  # Earth radius in KM\n",
    "    lat1, lon1, lat2, lon2 = map(np.radians, [lat1, lon1, lat2, lon2])\n",
    "    dlat = lat2 - lat1\n",
    "    dlon = lon2 - lon1\n",
    "    a = np.sin(dlat/2)**2 + np.cos(lat1)*np.cos(lat2)*np.sin(dlon/2)**2\n",
    "    c = 2 * np.arcsin(np.sqrt(a))\n",
    "    return R * c\n",
    "\n",
    "df['Distance_km'] = haversine(df['Restaurant_latitude'], df['Restaurant_longitude'],\n",
    "                              df['Delivery_location_latitude'], df['Delivery_location_longitude'])\n"
   ]
  },
  {
   "cell_type": "code",
   "execution_count": null,
   "id": "b1b0aa33",
   "metadata": {},
   "outputs": [],
   "source": [
    "# Keep only relevant columns\n",
    "df = df[['Delivery_person_Age', 'Delivery_person_Ratings', 'Distance_km', 'Time_taken(min)']]\n",
    "df.dropna(inplace=True)\n",
    "df.head()\n"
   ]
  },
  {
   "cell_type": "code",
   "execution_count": null,
   "id": "c4b85856",
   "metadata": {},
   "outputs": [],
   "source": [
    "# Pairplot to see relationships\n",
    "sns.pairplot(df)\n",
    "plt.suptitle(\"Pairwise Feature Relationships\", y=1.02)\n",
    "plt.show()\n"
   ]
  },
  {
   "cell_type": "code",
   "execution_count": null,
   "id": "c41e9cea",
   "metadata": {},
   "outputs": [],
   "source": [
    "# Heatmap of correlations\n",
    "plt.figure(figsize=(8,6))\n",
    "sns.heatmap(df.corr(), annot=True, cmap=\"coolwarm\", fmt=\".2f\")\n",
    "plt.title(\"Correlation Heatmap\")\n",
    "plt.show()\n"
   ]
  },
  {
   "cell_type": "code",
   "execution_count": null,
   "id": "2804d80f",
   "metadata": {},
   "outputs": [],
   "source": [
    "# Distribution of target variable\n",
    "plt.figure(figsize=(6,4))\n",
    "sns.histplot(df['Time_taken(min)'], bins=20, kde=True)\n",
    "plt.title(\"Distribution of Delivery Time\")\n",
    "plt.xlabel(\"Time Taken (min)\")\n",
    "plt.ylabel(\"Frequency\")\n",
    "plt.show()\n"
   ]
  },
  {
   "cell_type": "code",
   "execution_count": null,
   "id": "e3377747",
   "metadata": {},
   "outputs": [],
   "source": [
    "# Feature and target split\n",
    "X = df[['Delivery_person_Age', 'Delivery_person_Ratings', 'Distance_km']].values\n",
    "y = df[['Time_taken(min)']].values\n",
    "\n",
    "# Normalize\n",
    "scaler_X = MinMaxScaler()\n",
    "scaler_y = MinMaxScaler()\n",
    "X_scaled = scaler_X.fit_transform(X)\n",
    "y_scaled = scaler_y.fit_transform(y)\n",
    "\n",
    "# Reshape for LSTM [samples, time_steps, features]\n",
    "X_scaled = X_scaled.reshape((X_scaled.shape[0], 1, X_scaled.shape[1]))\n",
    "\n",
    "# Train-test split\n",
    "X_train, X_test, y_train, y_test = train_test_split(X_scaled, y_scaled, test_size=0.2, random_state=42)\n"
   ]
  },
  {
   "cell_type": "code",
   "execution_count": null,
   "id": "c9bcd1db",
   "metadata": {},
   "outputs": [],
   "source": [
    "# Build the LSTM model\n",
    "model = Sequential()\n",
    "model.add(LSTM(50, activation='relu', input_shape=(1, 3)))\n",
    "model.add(Dense(1))\n",
    "model.compile(optimizer='adam', loss='mse')\n",
    "\n",
    "# Train the model\n",
    "early_stop = EarlyStopping(monitor='val_loss', patience=10)\n",
    "history = model.fit(X_train, y_train, epochs=100, validation_data=(X_test, y_test),\n",
    "                    callbacks=[early_stop], verbose=1)\n"
   ]
  },
  {
   "cell_type": "code",
   "execution_count": null,
   "id": "87f8afa9",
   "metadata": {},
   "outputs": [],
   "source": [
    "# Save the model\n",
    "model.save('lstm_delivery_model.h5')\n"
   ]
  }
 ],
 "metadata": {},
 "nbformat": 4,
 "nbformat_minor": 5
}